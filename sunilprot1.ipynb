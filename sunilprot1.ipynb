{
  "nbformat": 4,
  "nbformat_minor": 0,
  "metadata": {
    "colab": {
      "provenance": []
    },
    "kernelspec": {
      "name": "python3",
      "display_name": "Python 3"
    },
    "language_info": {
      "name": "python"
    }
  },
  "cells": [
    {
      "cell_type": "markdown",
      "source": [],
      "metadata": {
        "id": "WH3pyhZUdR94"
      }
    },
    {
      "cell_type": "code",
      "source": [
        "import numpy as np\n",
        "import pandas as pd\n",
        "from sklearn.model_selection import train_test_split\n",
        "from sklearn.linear_model import LinearRegression\n",
        "from sklearn.metrics import r2_score"
      ],
      "metadata": {
        "id": "mhrNPM3UeWWF"
      },
      "execution_count": null,
      "outputs": []
    },
    {
      "cell_type": "code",
      "source": [
        "data=pd.read_csv(\"hp.csv\")\n",
        "data.drop(['sqft_above'],axis='columns',inplace=True)\n",
        "conv_d=[1 if values==2014 else 0 for values in data.date]\n",
        "data['date']=conv_d\n"
      ],
      "metadata": {
        "id": "sWbVMuxueWcP"
      },
      "execution_count": null,
      "outputs": []
    },
    {
      "cell_type": "code",
      "source": [
        "data.info()\n"
      ],
      "metadata": {
        "id": "h4cU-RREefmo"
      },
      "execution_count": null,
      "outputs": []
    },
    {
      "cell_type": "code",
      "source": [
        "data"
      ],
      "metadata": {
        "id": "KyiWGsxKei6H"
      },
      "execution_count": null,
      "outputs": []
    },
    {
      "cell_type": "code",
      "source": [
        "data.hist(figsize=(15,8))"
      ],
      "metadata": {
        "id": "6fs7QPUuenm_"
      },
      "execution_count": null,
      "outputs": []
    },
    {
      "cell_type": "code",
      "source": [
        "y=data[['price']].values\n",
        "x=data.drop(['id','price'],axis=1).values\n"
      ],
      "metadata": {
        "id": "LRqN414rerAn"
      },
      "execution_count": null,
      "outputs": []
    },
    {
      "cell_type": "code",
      "source": [
        "x_train,x_test,y_train,y_test=train_test_split(x,y,test_size=0.5)\n"
      ],
      "metadata": {
        "id": "lT7VlYAQevlg"
      },
      "execution_count": null,
      "outputs": []
    },
    {
      "cell_type": "code",
      "source": [
        "reg=LinearRegression()\n",
        "reg.fit(x_train,y_train)\n"
      ],
      "metadata": {
        "id": "_mXRwBQwexz8"
      },
      "execution_count": null,
      "outputs": []
    },
    {
      "cell_type": "code",
      "source": [
        "y_predict=reg.predict(x_test)\n",
        "print(y_predict)\n",
        "print(y_test)"
      ],
      "metadata": {
        "id": "KL2Q-0ZDe10V"
      },
      "execution_count": null,
      "outputs": []
    },
    {
      "cell_type": "code",
      "source": [
        "print('coefficient of determination:%.3f' % r2_score(y_test,y_predict))"
      ],
      "metadata": {
        "id": "27UFgDoMe_jN"
      },
      "execution_count": null,
      "outputs": []
    }
  ]
}